{
 "nbformat": 4,
 "nbformat_minor": 0,
 "metadata": {
  "colab": {
   "name": "dalle_back.ipynb",
   "provenance": [],
   "collapsed_sections": [],
   "include_colab_link": true
  },
  "kernelspec": {
   "name": "python3",
   "display_name": "Python 3"
  },
  "language_info": {
   "name": "python"
  },
  "accelerator": "GPU"
 },
 "cells": [
  {
   "cell_type": "markdown",
   "metadata": {
    "id": "view-in-github",
    "colab_type": "text"
   },
   "source": [
    "<center><a href=\"https://colab.research.google.com/github/saharmor/dalle-playground/blob/main/backend/dalle_server.ipynb\" target=\"_parent\"><img src=\"https://colab.research.google.com/assets/colab-badge.svg\" alt=\"Open In Colab\"/></a></center>"
   ]
  },
  {
   "cell_type": "markdown",
   "metadata": {
    "id": "VRRXnKUCCMTv"
   },
   "source": [
    "<center><p style=\"font-size:80px;\">👩‍🎨</p></center>\n",
    "\n",
    "### <center>Use this notebook to run your DALL-E server</center>\n",
    "### <center> [DALL-E Playground on Github](https://github.com/saharmor/dalle-playground) | [Pretrained Models](https://github.com/robvanvolt/DALLE-models)</center>\n",
    " This notebook is a slight modification of the one created by mega b#6696\n",
    "\n",
    "## Setup (run this once)"
   ]
  },
  {
   "cell_type": "code",
   "metadata": {
    "id": "RrmBb36yn4i_",
    "cellView": "form",
    "pycharm": {
     "name": "#%%\n"
    }
   },
   "source": [
    "from IPython.display import clear_output\n",
    "!sudo apt-get -y install llvm-9-dev cmake\n",
    "!git clone https://github.com/microsoft/DeepSpeed.git /tmp/Deepspeed\n",
    "%cd /tmp/Deepspeed\n",
    "!DS_BUILD_SPARSE_ATTN=1 ./install.sh -r\n",
    "!npm install -g localtunnel\n",
    "clear_output()\n",
    "%cd /content/\n",
    "!pip install Flask==1.1.2 Flask-Cors==3.0.9 Flask-RESTful==0.3.8 dalle-pytorch tqdm\n",
    "!git clone https://github.com/saharmor/dalle-playground.git\n",
    "clear_output()\n",
    "print(\"Finished setup\")"
   ],
   "execution_count": null,
   "outputs": []
  },
  {
   "cell_type": "markdown",
   "source": [
    "## Download pretrained models (run this once)"
   ],
   "metadata": {
    "collapsed": false,
    "pycharm": {
     "name": "#%% md\n"
    }
   }
  },
  {
   "cell_type": "code",
   "source": [
    "#@markdown # Publicly released models are located [here](https://github.com/robvanvolt/DALLE-models).\n",
    "\n",
    "model_url = \"https://github.com/johnpaulbin/DALLE-models/releases/download/model/16L_64HD_8H_512I_128T_cc12m_cc3m_3E.pt\"\n",
    "!wget \"$model_url\" -O dalle_checkpoint.pt\n",
    "!echo '{\"good\": \"dalle_checkpoint.pt\"}' > pretrained_models.json\n",
    "clear_output()\n",
    "print(\"Finished download.\")"
   ],
   "metadata": {
    "collapsed": false,
    "pycharm": {
     "name": "#%%\n"
    }
   },
   "execution_count": null,
   "outputs": []
  },
  {
   "cell_type": "markdown",
   "source": [
    "## Start backend\n",
    "1. Run the following cell\n",
    "2. Copy the url it provides you\n",
    "3.1. If you're running your own local DALL-E playground, then paste this URL the `Backend URL` field in your local React app\n",
    "3.2. If you're just interested in playing around with DALL-E, then you can paste this url in https://saharmor.github.io/dalle-playground. You can also pass it as a URL query param, e.g. https://saharmor.github.io/dalle-playground?backendUrl=https://XXXX.loca.lt"
   ],
   "metadata": {
    "collapsed": false
   }
  },
  {
   "cell_type": "code",
   "source": [
    "from threading import Thread\n",
    "\n",
    "def app():\n",
    "  !python dalle-playground/backend/app.py 8000\n",
    "\n",
    "if __name__ == '__main__':\n",
    "    t1 = Thread(target = app)\n",
    "    a = t1.start()\n",
    "    !lt --port 8000"
   ],
   "metadata": {
    "collapsed": false,
    "pycharm": {
     "name": "#%%\n"
    }
   },
   "execution_count": null,
   "outputs": []
  }
 ]
}